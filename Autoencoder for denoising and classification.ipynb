{
  "nbformat": 4,
  "nbformat_minor": 0,
  "metadata": {
    "kernelspec": {
      "display_name": "Python 3",
      "language": "python",
      "name": "python3"
    },
    "language_info": {
      "codemirror_mode": {
        "name": "ipython",
        "version": 3
      },
      "file_extension": ".py",
      "mimetype": "text/x-python",
      "name": "python",
      "nbconvert_exporter": "python",
      "pygments_lexer": "ipython3",
      "version": "3.7.6"
    },
    "colab": {
      "name": "assignment1.ipynb",
      "provenance": [],
      "collapsed_sections": []
    },
    "accelerator": "GPU"
  },
  "cells": [
    {
      "cell_type": "code",
      "metadata": {
        "id": "DWCRx5U2dmA3",
        "colab_type": "code",
        "colab": {}
      },
      "source": [
        "from keras.datasets import mnist\n",
        "import keras\n",
        "from keras.models import Model\n",
        "from keras.layers import Input,Dense,Flatten,Dropout,merge,Reshape,Conv2D,MaxPooling2D,UpSampling2D,Conv2DTranspose\n",
        "from sklearn.model_selection import train_test_split\n",
        "from keras.optimizers import Adadelta\n",
        "from keras.layers import Input, Conv2D, MaxPool2D, UpSampling2D\n",
        "from keras.callbacks import EarlyStopping\n",
        "from keras.utils import to_categorical\n",
        "import numpy as np\n",
        "import matplotlib.pyplot as plt\n"
      ],
      "execution_count": 0,
      "outputs": []
    },
    {
      "cell_type": "code",
      "metadata": {
        "id": "j_mc6IYVdmBB",
        "colab_type": "code",
        "colab": {}
      },
      "source": [
        "(train_X, train_y), (test_X, test_y) = mnist.load_data()\n",
        "# to convert values from 0 to 255 into range 0 to 1.\n",
        "train_X = train_X.astype('float32') / 255\n",
        "test_X = test_X.astype('float32') / 255\n",
        "train_X = np.reshape(train_X, (len(train_X), 28, 28, 1)) \n",
        "test_X = np.reshape(test_X, (len(test_X), 28, 28, 1))  \n",
        "    \n",
        "noise_factor = 0.5\n",
        "    \n",
        "#np.random.normal => random means to obtain random samples\n",
        "#normal means normal or gaussian distribution, \n",
        "train_X_noisy = train_X + noise_factor * np.random.normal(loc=0.0, scale=1.0, size=train_X.shape)  \n",
        "test_X_noisy = test_X + noise_factor * np.random.normal(loc=0.0, scale=1.0, size=test_X.shape) \n",
        "    \n",
        "train_X_noisy = np.clip(train_X_noisy, 0., 1.)   \n",
        "test_X_noisy = np.clip(test_X_noisy, 0., 1.)"
      ],
      "execution_count": 0,
      "outputs": []
    },
    {
      "cell_type": "code",
      "metadata": {
        "id": "1fMo86RU1GYQ",
        "colab_type": "code",
        "colab": {}
      },
      "source": [
        "Input_img = Input(shape=(28, 28, 1))  \n",
        "    \n",
        "#encoding architecture\n",
        "x1 = Conv2D(64, (3, 3), activation='relu', padding='same')(Input_img)\n",
        "x1 = MaxPool2D( (2, 2), padding='same')(x1)\n",
        "x2 = Conv2D(32, (3, 3), activation='relu', padding='same')(x1)\n",
        "x2 = MaxPool2D( (2, 2), padding='same')(x2)\n",
        "x3 = Conv2D(16, (3, 3), activation='relu', padding='same')(x2)\n",
        "encoded    = MaxPool2D( (2, 2), padding='same')(x3)\n",
        "    \n",
        "# decoding architecture\n",
        "x3 = Conv2D(16, (3, 3), activation='relu', padding='same')(encoded)\n",
        "x3 = UpSampling2D((2, 2))(x3)\n",
        "x2 = Conv2D(32, (3, 3), activation='relu', padding='same')(x3)\n",
        "x2 = UpSampling2D((2, 2))(x2)\n",
        "x1 = Conv2D(64, (3, 3), activation='relu')(x2)\n",
        "x1 = UpSampling2D((2, 2))(x1)\n",
        "decoded   = Conv2D(1, (3, 3), padding='same')(x1)\n",
        "\n",
        "autoencoder = Model(Input_img, decoded)\n",
        "autoencoder.compile(optimizer='adadelta', loss='binary_crossentropy')\n"
      ],
      "execution_count": 0,
      "outputs": []
    },
    {
      "cell_type": "code",
      "metadata": {
        "id": "WqJhrD4u1hc5",
        "colab_type": "code",
        "colab": {
          "base_uri": "https://localhost:8080/",
          "height": 1000
        },
        "outputId": "21842a41-ddd1-41e2-858b-9d45b1b938fe"
      },
      "source": [
        "early_stopper = EarlyStopping(monitor='val_loss', min_delta=0, patience=10, verbose=1, mode='auto')\n",
        "a_e = autoencoder.fit(train_X_noisy, train_X,\n",
        "                epochs=100,\n",
        "                batch_size=128,\n",
        "                shuffle=True,\n",
        "                validation_data=(test_X_noisy, test_X),\n",
        "                callbacks=[early_stopper])"
      ],
      "execution_count": 6,
      "outputs": [
        {
          "output_type": "stream",
          "text": [
            "Train on 60000 samples, validate on 10000 samples\n",
            "Epoch 1/100\n",
            "60000/60000 [==============================] - 17s 285us/step - loss: 0.2437 - val_loss: 0.1989\n",
            "Epoch 2/100\n",
            "60000/60000 [==============================] - 11s 175us/step - loss: 0.1979 - val_loss: 0.1792\n",
            "Epoch 3/100\n",
            "60000/60000 [==============================] - 11s 176us/step - loss: 0.1802 - val_loss: 0.1744\n",
            "Epoch 4/100\n",
            "60000/60000 [==============================] - 11s 175us/step - loss: 0.1683 - val_loss: 0.2321\n",
            "Epoch 5/100\n",
            "60000/60000 [==============================] - 11s 175us/step - loss: 0.1619 - val_loss: 0.1502\n",
            "Epoch 6/100\n",
            "60000/60000 [==============================] - 11s 176us/step - loss: 0.1574 - val_loss: 0.1718\n",
            "Epoch 7/100\n",
            "60000/60000 [==============================] - 11s 176us/step - loss: 0.1532 - val_loss: 0.1453\n",
            "Epoch 8/100\n",
            "60000/60000 [==============================] - 11s 175us/step - loss: 0.1496 - val_loss: 0.1484\n",
            "Epoch 9/100\n",
            "60000/60000 [==============================] - 11s 175us/step - loss: 0.1485 - val_loss: 0.1753\n",
            "Epoch 10/100\n",
            "60000/60000 [==============================] - 11s 177us/step - loss: 0.1456 - val_loss: 0.1377\n",
            "Epoch 11/100\n",
            "60000/60000 [==============================] - 11s 177us/step - loss: 0.1425 - val_loss: 0.1370\n",
            "Epoch 12/100\n",
            "60000/60000 [==============================] - 11s 176us/step - loss: 0.1381 - val_loss: 0.1430\n",
            "Epoch 14/100\n",
            "60000/60000 [==============================] - 11s 176us/step - loss: 0.1381 - val_loss: 0.1347\n",
            "Epoch 15/100\n",
            "60000/60000 [==============================] - 10s 174us/step - loss: 0.1367 - val_loss: 0.1309\n",
            "Epoch 16/100\n",
            "60000/60000 [==============================] - 11s 176us/step - loss: 0.1358 - val_loss: 0.1298\n",
            "Epoch 17/100\n",
            "60000/60000 [==============================] - 11s 176us/step - loss: 0.1341 - val_loss: 0.1314\n",
            "Epoch 18/100\n",
            "60000/60000 [==============================] - 11s 176us/step - loss: 0.1331 - val_loss: 0.1328\n",
            "Epoch 19/100\n",
            "60000/60000 [==============================] - 11s 175us/step - loss: 0.1341 - val_loss: 0.1292\n",
            "Epoch 20/100\n",
            "60000/60000 [==============================] - 11s 176us/step - loss: 0.1323 - val_loss: 0.1345\n",
            "Epoch 21/100\n",
            "60000/60000 [==============================] - 11s 176us/step - loss: 0.1329 - val_loss: 0.1411\n",
            "Epoch 22/100\n",
            "60000/60000 [==============================] - 11s 175us/step - loss: 0.1322 - val_loss: 0.1257\n",
            "Epoch 23/100\n",
            "60000/60000 [==============================] - 11s 176us/step - loss: 0.1301 - val_loss: 0.1263\n",
            "Epoch 24/100\n",
            "60000/60000 [==============================] - 11s 177us/step - loss: 0.1309 - val_loss: 0.1253\n",
            "Epoch 25/100\n",
            "60000/60000 [==============================] - 11s 177us/step - loss: 0.1302 - val_loss: 0.1248\n",
            "Epoch 26/100\n",
            "60000/60000 [==============================] - 11s 176us/step - loss: 0.1293 - val_loss: 0.1277\n",
            "Epoch 27/100\n",
            "60000/60000 [==============================] - 11s 175us/step - loss: 0.1278 - val_loss: 0.1233\n",
            "Epoch 28/100\n",
            "60000/60000 [==============================] - 10s 175us/step - loss: 0.1287 - val_loss: 0.1294\n",
            "Epoch 29/100\n",
            "60000/60000 [==============================] - 11s 176us/step - loss: 0.1278 - val_loss: 0.1384\n",
            "Epoch 30/100\n",
            "60000/60000 [==============================] - 11s 175us/step - loss: 0.1279 - val_loss: 0.1254\n",
            "Epoch 31/100\n",
            "60000/60000 [==============================] - 11s 175us/step - loss: 0.1280 - val_loss: 0.1226\n",
            "Epoch 32/100\n",
            "60000/60000 [==============================] - 11s 175us/step - loss: 0.1270 - val_loss: 0.1248\n",
            "Epoch 33/100\n",
            "60000/60000 [==============================] - 11s 176us/step - loss: 0.1269 - val_loss: 0.1229\n",
            "Epoch 34/100\n",
            "60000/60000 [==============================] - 11s 175us/step - loss: 0.1257 - val_loss: 0.1223\n",
            "Epoch 35/100\n",
            "60000/60000 [==============================] - 10s 175us/step - loss: 0.1258 - val_loss: 0.1229\n",
            "Epoch 36/100\n",
            "60000/60000 [==============================] - 11s 176us/step - loss: 0.1269 - val_loss: 0.1238\n",
            "Epoch 37/100\n",
            "60000/60000 [==============================] - 11s 176us/step - loss: 0.1252 - val_loss: 0.1263\n",
            "Epoch 38/100\n",
            "60000/60000 [==============================] - 10s 175us/step - loss: 0.1253 - val_loss: 0.1210\n",
            "Epoch 39/100\n",
            "60000/60000 [==============================] - 11s 177us/step - loss: 0.1259 - val_loss: 0.1240\n",
            "Epoch 40/100\n",
            "60000/60000 [==============================] - 11s 175us/step - loss: 0.1251 - val_loss: 0.1208\n",
            "Epoch 41/100\n",
            "60000/60000 [==============================] - 11s 176us/step - loss: 0.1243 - val_loss: 0.1203\n",
            "Epoch 42/100\n",
            "60000/60000 [==============================] - 10s 175us/step - loss: 0.1234 - val_loss: 0.1233\n",
            "Epoch 43/100\n",
            "60000/60000 [==============================] - 11s 175us/step - loss: 0.1245 - val_loss: 0.1202\n",
            "Epoch 44/100\n",
            "60000/60000 [==============================] - 10s 175us/step - loss: 0.1243 - val_loss: 0.1187\n",
            "Epoch 45/100\n",
            "60000/60000 [==============================] - 10s 175us/step - loss: 0.1255 - val_loss: 0.1282\n",
            "Epoch 46/100\n",
            "60000/60000 [==============================] - 11s 175us/step - loss: 0.1239 - val_loss: 0.1219\n",
            "Epoch 47/100\n",
            "60000/60000 [==============================] - 11s 175us/step - loss: 0.1247 - val_loss: 0.1192\n",
            "Epoch 48/100\n",
            "60000/60000 [==============================] - 10s 174us/step - loss: 0.1230 - val_loss: 0.1189\n",
            "Epoch 49/100\n",
            "60000/60000 [==============================] - 11s 176us/step - loss: 0.1229 - val_loss: 0.1199\n",
            "Epoch 50/100\n",
            "60000/60000 [==============================] - 11s 175us/step - loss: 0.1234 - val_loss: 0.1193\n",
            "Epoch 51/100\n",
            "60000/60000 [==============================] - 11s 176us/step - loss: 0.1236 - val_loss: 0.1185\n",
            "Epoch 52/100\n",
            "60000/60000 [==============================] - 10s 175us/step - loss: 0.1226 - val_loss: 0.1230\n",
            "Epoch 53/100\n",
            "60000/60000 [==============================] - 11s 176us/step - loss: 0.1230 - val_loss: 0.1194\n",
            "Epoch 54/100\n",
            "60000/60000 [==============================] - 11s 179us/step - loss: 0.1219 - val_loss: 0.1189\n",
            "Epoch 55/100\n",
            "60000/60000 [==============================] - 11s 176us/step - loss: 0.1225 - val_loss: 0.1197\n",
            "Epoch 56/100\n",
            "60000/60000 [==============================] - 11s 178us/step - loss: 0.1222 - val_loss: 0.1183\n",
            "Epoch 57/100\n",
            "60000/60000 [==============================] - 11s 176us/step - loss: 0.1221 - val_loss: 0.1178\n",
            "Epoch 58/100\n",
            "60000/60000 [==============================] - 11s 177us/step - loss: 0.1217 - val_loss: 0.1206\n",
            "Epoch 59/100\n",
            "60000/60000 [==============================] - 11s 176us/step - loss: 0.1295 - val_loss: 0.1199\n",
            "Epoch 60/100\n",
            "60000/60000 [==============================] - 11s 176us/step - loss: 0.1228 - val_loss: 0.1196\n",
            "Epoch 61/100\n",
            "60000/60000 [==============================] - 10s 175us/step - loss: 0.1222 - val_loss: 0.1188\n",
            "Epoch 62/100\n",
            "60000/60000 [==============================] - 10s 175us/step - loss: 0.1214 - val_loss: 0.1189\n",
            "Epoch 63/100\n",
            "60000/60000 [==============================] - 11s 176us/step - loss: 0.1217 - val_loss: 0.1203\n",
            "Epoch 64/100\n",
            "60000/60000 [==============================] - 11s 175us/step - loss: 0.1215 - val_loss: 0.1228\n",
            "Epoch 65/100\n",
            "60000/60000 [==============================] - 10s 173us/step - loss: 0.1213 - val_loss: 0.1170\n",
            "Epoch 66/100\n",
            "60000/60000 [==============================] - 10s 175us/step - loss: 0.1220 - val_loss: 0.1185\n",
            "Epoch 67/100\n",
            "60000/60000 [==============================] - 11s 175us/step - loss: 0.1205 - val_loss: 0.1178\n",
            "Epoch 68/100\n",
            "60000/60000 [==============================] - 11s 176us/step - loss: 0.1206 - val_loss: 0.1241\n",
            "Epoch 69/100\n",
            "60000/60000 [==============================] - 10s 175us/step - loss: 0.1208 - val_loss: 0.1196\n",
            "Epoch 70/100\n",
            "60000/60000 [==============================] - 11s 175us/step - loss: 0.1206 - val_loss: 0.1233\n",
            "Epoch 71/100\n",
            "60000/60000 [==============================] - 11s 176us/step - loss: 0.1226 - val_loss: 0.1167\n",
            "Epoch 72/100\n",
            "60000/60000 [==============================] - 11s 178us/step - loss: 0.1214 - val_loss: 0.1175\n",
            "Epoch 73/100\n",
            "60000/60000 [==============================] - 10s 174us/step - loss: 0.1224 - val_loss: 0.1199\n",
            "Epoch 74/100\n",
            "60000/60000 [==============================] - 11s 176us/step - loss: 0.1237 - val_loss: 0.1218\n",
            "Epoch 75/100\n",
            "60000/60000 [==============================] - 10s 174us/step - loss: 0.1205 - val_loss: 0.1182\n",
            "Epoch 76/100\n",
            "60000/60000 [==============================] - 11s 175us/step - loss: 0.1203 - val_loss: 0.1185\n",
            "Epoch 77/100\n",
            "60000/60000 [==============================] - 10s 175us/step - loss: 0.1204 - val_loss: 0.1168\n",
            "Epoch 78/100\n",
            "60000/60000 [==============================] - 11s 175us/step - loss: 0.1205 - val_loss: 0.1163\n",
            "Epoch 79/100\n",
            "60000/60000 [==============================] - 11s 176us/step - loss: 0.1216 - val_loss: 0.1163\n",
            "Epoch 80/100\n",
            "60000/60000 [==============================] - 10s 175us/step - loss: 0.1212 - val_loss: 0.1167\n",
            "Epoch 81/100\n",
            "60000/60000 [==============================] - 11s 175us/step - loss: 0.1203 - val_loss: 0.1156\n",
            "Epoch 82/100\n",
            "60000/60000 [==============================] - 10s 175us/step - loss: 0.1204 - val_loss: 0.1186\n",
            "Epoch 83/100\n",
            "60000/60000 [==============================] - 11s 175us/step - loss: 0.1201 - val_loss: 0.1171\n",
            "Epoch 84/100\n",
            "60000/60000 [==============================] - 11s 177us/step - loss: 0.1199 - val_loss: 0.1170\n",
            "Epoch 85/100\n",
            "60000/60000 [==============================] - 11s 176us/step - loss: 0.1197 - val_loss: 0.1387\n",
            "Epoch 86/100\n",
            "60000/60000 [==============================] - 11s 176us/step - loss: 0.1206 - val_loss: 0.1170\n",
            "Epoch 87/100\n",
            "60000/60000 [==============================] - 10s 175us/step - loss: 0.1201 - val_loss: 0.1182\n",
            "Epoch 88/100\n",
            "60000/60000 [==============================] - 11s 175us/step - loss: 0.1199 - val_loss: 0.1189\n",
            "Epoch 89/100\n",
            "60000/60000 [==============================] - 10s 175us/step - loss: 0.1197 - val_loss: 0.1179\n",
            "Epoch 90/100\n",
            "60000/60000 [==============================] - 11s 176us/step - loss: 0.1193 - val_loss: 0.1201\n",
            "Epoch 91/100\n",
            "60000/60000 [==============================] - 11s 176us/step - loss: 0.1205 - val_loss: 0.1164\n",
            "Epoch 00091: early stopping\n"
          ],
          "name": "stdout"
        }
      ]
    },
    {
      "cell_type": "code",
      "metadata": {
        "id": "S5v5TsB58lN6",
        "colab_type": "code",
        "colab": {
          "base_uri": "https://localhost:8080/",
          "height": 122
        },
        "outputId": "5ac7ce75-6249-4624-f592-01cb26d426b2"
      },
      "source": [
        "from google.colab import drive\n",
        "drive.mount('/content/drive')"
      ],
      "execution_count": 16,
      "outputs": [
        {
          "output_type": "stream",
          "text": [
            "Go to this URL in a browser: https://accounts.google.com/o/oauth2/auth?client_id=947318989803-6bn6qk8qdgf4n4g3pfee6491hc0brc4i.apps.googleusercontent.com&redirect_uri=urn%3aietf%3awg%3aoauth%3a2.0%3aoob&response_type=code&scope=email%20https%3a%2f%2fwww.googleapis.com%2fauth%2fdocs.test%20https%3a%2f%2fwww.googleapis.com%2fauth%2fdrive%20https%3a%2f%2fwww.googleapis.com%2fauth%2fdrive.photos.readonly%20https%3a%2f%2fwww.googleapis.com%2fauth%2fpeopleapi.readonly\n",
            "\n",
            "Enter your authorization code:\n",
            "··········\n",
            "Mounted at /content/drive\n"
          ],
          "name": "stdout"
        }
      ]
    },
    {
      "cell_type": "code",
      "metadata": {
        "id": "aVYYpaFm86uF",
        "colab_type": "code",
        "colab": {}
      },
      "source": [
        "autoencoder.save_weights(\"autoencoder.h5\")"
      ],
      "execution_count": 0,
      "outputs": []
    },
    {
      "cell_type": "code",
      "metadata": {
        "id": "h67l_9fOXFm3",
        "colab_type": "code",
        "colab": {
          "base_uri": "https://localhost:8080/",
          "height": 629
        },
        "outputId": "1bd1063e-9fb4-4b4f-a389-b10f62ae46f9"
      },
      "source": [
        "autoencoder.summary()"
      ],
      "execution_count": 92,
      "outputs": [
        {
          "output_type": "stream",
          "text": [
            "Model: \"model_3\"\n",
            "_________________________________________________________________\n",
            "Layer (type)                 Output Shape              Param #   \n",
            "=================================================================\n",
            "input_2 (InputLayer)         (None, 28, 28, 1)         0         \n",
            "_________________________________________________________________\n",
            "conv2d_14 (Conv2D)           (None, 28, 28, 64)        640       \n",
            "_________________________________________________________________\n",
            "max_pooling2d_10 (MaxPooling (None, 14, 14, 64)        0         \n",
            "_________________________________________________________________\n",
            "conv2d_15 (Conv2D)           (None, 14, 14, 32)        18464     \n",
            "_________________________________________________________________\n",
            "max_pooling2d_11 (MaxPooling (None, 7, 7, 32)          0         \n",
            "_________________________________________________________________\n",
            "conv2d_16 (Conv2D)           (None, 7, 7, 16)          4624      \n",
            "_________________________________________________________________\n",
            "max_pooling2d_12 (MaxPooling (None, 4, 4, 16)          0         \n",
            "_________________________________________________________________\n",
            "conv2d_17 (Conv2D)           (None, 4, 4, 16)          2320      \n",
            "_________________________________________________________________\n",
            "up_sampling2d_4 (UpSampling2 (None, 8, 8, 16)          0         \n",
            "_________________________________________________________________\n",
            "conv2d_18 (Conv2D)           (None, 8, 8, 32)          4640      \n",
            "_________________________________________________________________\n",
            "up_sampling2d_5 (UpSampling2 (None, 16, 16, 32)        0         \n",
            "_________________________________________________________________\n",
            "conv2d_19 (Conv2D)           (None, 14, 14, 64)        18496     \n",
            "_________________________________________________________________\n",
            "up_sampling2d_6 (UpSampling2 (None, 28, 28, 64)        0         \n",
            "_________________________________________________________________\n",
            "conv2d_20 (Conv2D)           (None, 28, 28, 1)         577       \n",
            "=================================================================\n",
            "Total params: 49,761\n",
            "Trainable params: 49,761\n",
            "Non-trainable params: 0\n",
            "_________________________________________________________________\n"
          ],
          "name": "stdout"
        }
      ]
    },
    {
      "cell_type": "code",
      "metadata": {
        "id": "sQ2Wh4rI9YpA",
        "colab_type": "code",
        "colab": {
          "base_uri": "https://localhost:8080/",
          "height": 51
        },
        "outputId": "ecbf87de-be02-465f-9a7b-012b95026e12"
      },
      "source": [
        "# Change the labels from categorical to one-hot encoding\n",
        "train_Y_one_hot = to_categorical(train_y)\n",
        "test_Y_one_hot = to_categorical(test_y)\n",
        "\n",
        "# Display the change for category label using one-hot encoding\n",
        "print('Original label:', train_y[0])\n",
        "print('After conversion to one-hot:', train_Y_one_hot[0])"
      ],
      "execution_count": 55,
      "outputs": [
        {
          "output_type": "stream",
          "text": [
            "Original label: 5\n",
            "After conversion to one-hot: [0. 0. 0. 0. 0. 1. 0. 0. 0. 0.]\n"
          ],
          "name": "stdout"
        }
      ]
    },
    {
      "cell_type": "code",
      "metadata": {
        "id": "TDzQVRha-1Z4",
        "colab_type": "code",
        "colab": {}
      },
      "source": [
        "train_X,valid_X,train_label,valid_label = train_test_split(train_X,train_Y_one_hot,test_size=0.2,random_state=13)"
      ],
      "execution_count": 0,
      "outputs": []
    },
    {
      "cell_type": "code",
      "metadata": {
        "id": "7E52YTAHAL2T",
        "colab_type": "code",
        "colab": {
          "base_uri": "https://localhost:8080/",
          "height": 34
        },
        "outputId": "3fdcfd31-377d-43bf-e2f8-62a5f4d9d06e"
      },
      "source": [
        "train_X.shape,valid_X.shape,train_label.shape,valid_label.shape"
      ],
      "execution_count": 57,
      "outputs": [
        {
          "output_type": "execute_result",
          "data": {
            "text/plain": [
              "((48000, 28, 28, 1), (12000, 28, 28, 1), (48000, 10), (12000, 10))"
            ]
          },
          "metadata": {
            "tags": []
          },
          "execution_count": 57
        }
      ]
    },
    {
      "cell_type": "code",
      "metadata": {
        "id": "PQOx9qeBAyBW",
        "colab_type": "code",
        "colab": {}
      },
      "source": [
        "#encoding architecture\n",
        "x1 = Conv2D(64, (3, 3), activation='relu', padding='same')(Input_img)\n",
        "x1 = MaxPool2D( (2, 2), padding='same')(x1)\n",
        "x2 = Conv2D(32, (3, 3), activation='relu', padding='same')(x1)\n",
        "x2 = MaxPool2D( (2, 2), padding='same')(x2)\n",
        "x3 = Conv2D(16, (3, 3), activation='relu', padding='same')(x2)\n",
        "\n",
        "encoded    = MaxPool2D( (2, 2), padding='same')(x3)"
      ],
      "execution_count": 0,
      "outputs": []
    },
    {
      "cell_type": "code",
      "metadata": {
        "id": "qB2P6QCwBFEP",
        "colab_type": "code",
        "colab": {}
      },
      "source": [
        "num_classes = 10\n",
        "flat = Flatten()(encoded)\n",
        "den = Dense(128, activation='relu')(flat)\n",
        "out = Dense(num_classes, activation='softmax')(den)"
      ],
      "execution_count": 0,
      "outputs": []
    },
    {
      "cell_type": "code",
      "metadata": {
        "id": "JcnmIsRPCGku",
        "colab_type": "code",
        "colab": {}
      },
      "source": [
        "full_model = Model(Input_img,out)"
      ],
      "execution_count": 0,
      "outputs": []
    },
    {
      "cell_type": "code",
      "metadata": {
        "id": "lURZ6TQHAyOx",
        "colab_type": "code",
        "colab": {}
      },
      "source": [
        "for l1,l2 in zip(full_model.layers[:7],autoencoder.layers[0:7]):\n",
        "    l1.set_weights(l2.get_weights())"
      ],
      "execution_count": 0,
      "outputs": []
    },
    {
      "cell_type": "code",
      "metadata": {
        "id": "qvRdLbBGE2Wy",
        "colab_type": "code",
        "colab": {
          "base_uri": "https://localhost:8080/",
          "height": 1000
        },
        "outputId": "19c0d7cd-ae3d-47a6-d65e-f14b0207d3da"
      },
      "source": [
        "autoencoder.get_weights()[0][1]"
      ],
      "execution_count": 43,
      "outputs": [
        {
          "output_type": "execute_result",
          "data": {
            "text/plain": [
              "array([[[-4.34710979e-02,  4.70502190e-02,  1.43462956e-01,\n",
              "          2.42470149e-02,  2.42089257e-02, -1.35915251e-02,\n",
              "         -1.96329644e-03, -7.31643755e-04,  8.68859235e-03,\n",
              "          6.57479018e-02, -2.79542943e-03, -6.48744851e-02,\n",
              "         -3.50947082e-02,  4.64640893e-02,  1.60866126e-03,\n",
              "         -1.45177578e-03, -1.96775589e-02,  8.94371048e-03,\n",
              "         -4.42390107e-02, -6.10827096e-02,  2.07356773e-02,\n",
              "          3.59290205e-02,  1.41172362e-02,  3.80311236e-02,\n",
              "         -3.77272815e-03, -2.84821494e-04,  1.15543529e-02,\n",
              "          3.82602029e-02, -1.28165865e-03, -6.17672876e-03,\n",
              "          3.39011736e-02,  1.04272477e-02, -5.30296825e-02,\n",
              "         -1.68496370e-02, -1.03562046e-02, -1.39333559e-02,\n",
              "          3.23573835e-02, -1.70096382e-02,  1.66843273e-02,\n",
              "         -4.00315411e-02, -3.74097638e-02,  2.69266851e-02,\n",
              "          1.36997988e-02, -7.07356073e-03, -2.97002203e-04,\n",
              "          4.04621754e-03, -2.35350832e-01, -8.80308449e-03,\n",
              "         -1.14701139e-02, -2.72792149e-02,  1.98416151e-02,\n",
              "         -2.45472766e-04, -4.28141020e-02,  6.35580420e-02,\n",
              "          1.18697470e-03,  1.92711633e-02,  1.61968742e-03,\n",
              "          1.13846743e-02,  3.83350905e-03,  1.17194010e-02,\n",
              "         -8.52079690e-02,  1.00395288e-02, -2.37633381e-02,\n",
              "          4.60530147e-02]],\n",
              "\n",
              "       [[-9.32754353e-02,  5.26751876e-02, -1.29033616e-02,\n",
              "         -4.51675206e-02,  3.17333937e-02, -1.86535064e-02,\n",
              "          1.45301605e-02, -3.44315618e-02, -1.99808702e-02,\n",
              "         -2.07501337e-01,  7.35932775e-03,  3.49124079e-03,\n",
              "         -2.47753877e-02,  1.01774566e-01,  1.70163659e-03,\n",
              "          4.12732996e-02,  1.17172729e-02,  1.47062391e-02,\n",
              "         -1.15437722e-02,  1.09278169e-02,  2.92572379e-02,\n",
              "          4.58643259e-03, -8.05273235e-01, -6.94034761e-03,\n",
              "          2.63885092e-02, -2.69009499e-03, -7.17033027e-03,\n",
              "         -1.22500129e-01, -2.71132551e-02,  6.32824898e-02,\n",
              "          3.62301096e-02,  8.86853971e-03,  8.07473727e-04,\n",
              "          1.41781755e-04, -1.31029310e-03, -1.21910991e-02,\n",
              "          2.55617127e-03, -1.23754404e-02,  1.28193479e-02,\n",
              "         -4.93586157e-03, -3.59712765e-02,  3.22491559e-03,\n",
              "         -5.19924164e-02, -4.03354652e-02,  1.72105446e-01,\n",
              "         -5.37234247e-02,  4.13306914e-02, -2.41931658e-02,\n",
              "          1.88776047e-03, -3.41508463e-02,  8.45558941e-03,\n",
              "          6.58675237e-03, -1.97397526e-02,  5.84092140e-02,\n",
              "         -1.04077794e-02,  5.33186607e-02,  4.53655161e-02,\n",
              "         -4.37098145e-02, -1.65094645e-03, -3.54231190e-04,\n",
              "         -2.36753337e-02,  8.63726512e-02,  4.35346253e-02,\n",
              "          3.36719230e-02]],\n",
              "\n",
              "       [[-5.70874102e-02,  5.96947549e-03,  6.03814097e-03,\n",
              "          1.79282036e-02, -2.24471111e-02, -5.19798622e-02,\n",
              "          3.57373469e-02, -1.42398039e-02,  9.30052996e-02,\n",
              "          2.65352745e-02, -3.45328776e-03,  2.44943593e-02,\n",
              "         -2.12990679e-03, -5.28126443e-03, -2.61794887e-02,\n",
              "          3.02197244e-02, -7.26683959e-02,  5.10243922e-02,\n",
              "          2.16813013e-03, -2.98510976e-02, -1.15382727e-02,\n",
              "          4.74048853e-02, -1.85582810e-03, -3.12248524e-02,\n",
              "         -3.81153561e-02, -7.23092377e-01, -1.15968399e-02,\n",
              "          1.64203215e-02, -8.10236949e-03, -6.75583109e-02,\n",
              "          4.04086299e-02, -1.14461174e-02,  3.69180404e-02,\n",
              "          5.68739735e-02,  9.53901000e-03, -5.93616208e-03,\n",
              "         -2.58625615e-02,  1.03726603e-01, -8.15494061e-02,\n",
              "          2.91209389e-02, -1.54952211e-02,  2.19026934e-02,\n",
              "         -1.15097575e-02, -2.11381745e-02,  7.46673485e-03,\n",
              "          6.82998588e-03,  1.96422022e-02, -2.12392192e-02,\n",
              "          1.04045058e-02, -2.60088686e-03, -3.51109579e-02,\n",
              "          4.11828049e-02, -2.54502743e-02, -2.77557075e-02,\n",
              "          2.85070669e-02,  4.37976681e-02, -2.45595686e-02,\n",
              "          6.58859238e-02, -1.00709246e-02, -5.97851872e-02,\n",
              "          1.06698675e-02, -2.62721553e-02, -2.29149796e-02,\n",
              "         -5.12781960e-04]]], dtype=float32)"
            ]
          },
          "metadata": {
            "tags": []
          },
          "execution_count": 43
        }
      ]
    },
    {
      "cell_type": "code",
      "metadata": {
        "id": "UtNIExjNFFRw",
        "colab_type": "code",
        "colab": {
          "base_uri": "https://localhost:8080/",
          "height": 1000
        },
        "outputId": "232ae25a-b198-42aa-dca7-ca027e878c73"
      },
      "source": [
        "full_model.get_weights()[0][1]"
      ],
      "execution_count": 44,
      "outputs": [
        {
          "output_type": "execute_result",
          "data": {
            "text/plain": [
              "array([[[-4.34710979e-02,  4.70502190e-02,  1.43462956e-01,\n",
              "          2.42470149e-02,  2.42089257e-02, -1.35915251e-02,\n",
              "         -1.96329644e-03, -7.31643755e-04,  8.68859235e-03,\n",
              "          6.57479018e-02, -2.79542943e-03, -6.48744851e-02,\n",
              "         -3.50947082e-02,  4.64640893e-02,  1.60866126e-03,\n",
              "         -1.45177578e-03, -1.96775589e-02,  8.94371048e-03,\n",
              "         -4.42390107e-02, -6.10827096e-02,  2.07356773e-02,\n",
              "          3.59290205e-02,  1.41172362e-02,  3.80311236e-02,\n",
              "         -3.77272815e-03, -2.84821494e-04,  1.15543529e-02,\n",
              "          3.82602029e-02, -1.28165865e-03, -6.17672876e-03,\n",
              "          3.39011736e-02,  1.04272477e-02, -5.30296825e-02,\n",
              "         -1.68496370e-02, -1.03562046e-02, -1.39333559e-02,\n",
              "          3.23573835e-02, -1.70096382e-02,  1.66843273e-02,\n",
              "         -4.00315411e-02, -3.74097638e-02,  2.69266851e-02,\n",
              "          1.36997988e-02, -7.07356073e-03, -2.97002203e-04,\n",
              "          4.04621754e-03, -2.35350832e-01, -8.80308449e-03,\n",
              "         -1.14701139e-02, -2.72792149e-02,  1.98416151e-02,\n",
              "         -2.45472766e-04, -4.28141020e-02,  6.35580420e-02,\n",
              "          1.18697470e-03,  1.92711633e-02,  1.61968742e-03,\n",
              "          1.13846743e-02,  3.83350905e-03,  1.17194010e-02,\n",
              "         -8.52079690e-02,  1.00395288e-02, -2.37633381e-02,\n",
              "          4.60530147e-02]],\n",
              "\n",
              "       [[-9.32754353e-02,  5.26751876e-02, -1.29033616e-02,\n",
              "         -4.51675206e-02,  3.17333937e-02, -1.86535064e-02,\n",
              "          1.45301605e-02, -3.44315618e-02, -1.99808702e-02,\n",
              "         -2.07501337e-01,  7.35932775e-03,  3.49124079e-03,\n",
              "         -2.47753877e-02,  1.01774566e-01,  1.70163659e-03,\n",
              "          4.12732996e-02,  1.17172729e-02,  1.47062391e-02,\n",
              "         -1.15437722e-02,  1.09278169e-02,  2.92572379e-02,\n",
              "          4.58643259e-03, -8.05273235e-01, -6.94034761e-03,\n",
              "          2.63885092e-02, -2.69009499e-03, -7.17033027e-03,\n",
              "         -1.22500129e-01, -2.71132551e-02,  6.32824898e-02,\n",
              "          3.62301096e-02,  8.86853971e-03,  8.07473727e-04,\n",
              "          1.41781755e-04, -1.31029310e-03, -1.21910991e-02,\n",
              "          2.55617127e-03, -1.23754404e-02,  1.28193479e-02,\n",
              "         -4.93586157e-03, -3.59712765e-02,  3.22491559e-03,\n",
              "         -5.19924164e-02, -4.03354652e-02,  1.72105446e-01,\n",
              "         -5.37234247e-02,  4.13306914e-02, -2.41931658e-02,\n",
              "          1.88776047e-03, -3.41508463e-02,  8.45558941e-03,\n",
              "          6.58675237e-03, -1.97397526e-02,  5.84092140e-02,\n",
              "         -1.04077794e-02,  5.33186607e-02,  4.53655161e-02,\n",
              "         -4.37098145e-02, -1.65094645e-03, -3.54231190e-04,\n",
              "         -2.36753337e-02,  8.63726512e-02,  4.35346253e-02,\n",
              "          3.36719230e-02]],\n",
              "\n",
              "       [[-5.70874102e-02,  5.96947549e-03,  6.03814097e-03,\n",
              "          1.79282036e-02, -2.24471111e-02, -5.19798622e-02,\n",
              "          3.57373469e-02, -1.42398039e-02,  9.30052996e-02,\n",
              "          2.65352745e-02, -3.45328776e-03,  2.44943593e-02,\n",
              "         -2.12990679e-03, -5.28126443e-03, -2.61794887e-02,\n",
              "          3.02197244e-02, -7.26683959e-02,  5.10243922e-02,\n",
              "          2.16813013e-03, -2.98510976e-02, -1.15382727e-02,\n",
              "          4.74048853e-02, -1.85582810e-03, -3.12248524e-02,\n",
              "         -3.81153561e-02, -7.23092377e-01, -1.15968399e-02,\n",
              "          1.64203215e-02, -8.10236949e-03, -6.75583109e-02,\n",
              "          4.04086299e-02, -1.14461174e-02,  3.69180404e-02,\n",
              "          5.68739735e-02,  9.53901000e-03, -5.93616208e-03,\n",
              "         -2.58625615e-02,  1.03726603e-01, -8.15494061e-02,\n",
              "          2.91209389e-02, -1.54952211e-02,  2.19026934e-02,\n",
              "         -1.15097575e-02, -2.11381745e-02,  7.46673485e-03,\n",
              "          6.82998588e-03,  1.96422022e-02, -2.12392192e-02,\n",
              "          1.04045058e-02, -2.60088686e-03, -3.51109579e-02,\n",
              "          4.11828049e-02, -2.54502743e-02, -2.77557075e-02,\n",
              "          2.85070669e-02,  4.37976681e-02, -2.45595686e-02,\n",
              "          6.58859238e-02, -1.00709246e-02, -5.97851872e-02,\n",
              "          1.06698675e-02, -2.62721553e-02, -2.29149796e-02,\n",
              "         -5.12781960e-04]]], dtype=float32)"
            ]
          },
          "metadata": {
            "tags": []
          },
          "execution_count": 44
        }
      ]
    },
    {
      "cell_type": "code",
      "metadata": {
        "id": "7KGDa7wOFO10",
        "colab_type": "code",
        "colab": {}
      },
      "source": [
        "for layer in full_model.layers[0:7]:\n",
        "    layer.trainable = False"
      ],
      "execution_count": 0,
      "outputs": []
    },
    {
      "cell_type": "code",
      "metadata": {
        "id": "WNoIQGSGFPMg",
        "colab_type": "code",
        "colab": {}
      },
      "source": [
        "full_model.compile(loss=keras.losses.categorical_crossentropy, optimizer=keras.optimizers.Adam(),metrics=['accuracy'])"
      ],
      "execution_count": 0,
      "outputs": []
    },
    {
      "cell_type": "code",
      "metadata": {
        "id": "4a_2dGHPFfU9",
        "colab_type": "code",
        "colab": {
          "base_uri": "https://localhost:8080/",
          "height": 493
        },
        "outputId": "c2d1e74c-16cf-4c7b-f10a-72fb13ea87fc"
      },
      "source": [
        "full_model.summary()"
      ],
      "execution_count": 47,
      "outputs": [
        {
          "output_type": "stream",
          "text": [
            "Model: \"model_2\"\n",
            "_________________________________________________________________\n",
            "Layer (type)                 Output Shape              Param #   \n",
            "=================================================================\n",
            "input_1 (InputLayer)         (None, 28, 28, 1)         0         \n",
            "_________________________________________________________________\n",
            "conv2d_11 (Conv2D)           (None, 28, 28, 64)        640       \n",
            "_________________________________________________________________\n",
            "max_pooling2d_7 (MaxPooling2 (None, 14, 14, 64)        0         \n",
            "_________________________________________________________________\n",
            "conv2d_12 (Conv2D)           (None, 14, 14, 32)        18464     \n",
            "_________________________________________________________________\n",
            "max_pooling2d_8 (MaxPooling2 (None, 7, 7, 32)          0         \n",
            "_________________________________________________________________\n",
            "conv2d_13 (Conv2D)           (None, 7, 7, 16)          4624      \n",
            "_________________________________________________________________\n",
            "max_pooling2d_9 (MaxPooling2 (None, 4, 4, 16)          0         \n",
            "_________________________________________________________________\n",
            "flatten_3 (Flatten)          (None, 256)               0         \n",
            "_________________________________________________________________\n",
            "dense_4 (Dense)              (None, 128)               32896     \n",
            "_________________________________________________________________\n",
            "dense_5 (Dense)              (None, 10)                1290      \n",
            "=================================================================\n",
            "Total params: 57,914\n",
            "Trainable params: 34,186\n",
            "Non-trainable params: 23,728\n",
            "_________________________________________________________________\n"
          ],
          "name": "stdout"
        }
      ]
    },
    {
      "cell_type": "code",
      "metadata": {
        "id": "wHkoKUy5FlHv",
        "colab_type": "code",
        "colab": {
          "base_uri": "https://localhost:8080/",
          "height": 1000
        },
        "outputId": "cbb62272-e31f-46ed-c627-2a33b6340762"
      },
      "source": [
        "classify_train = full_model.fit(train_X, train_label, batch_size=64,epochs=100,verbose=1,validation_data=(valid_X, valid_label))"
      ],
      "execution_count": 58,
      "outputs": [
        {
          "output_type": "stream",
          "text": [
            "Train on 48000 samples, validate on 12000 samples\n",
            "Epoch 1/100\n",
            "48000/48000 [==============================] - 5s 113us/step - loss: 0.6131 - accuracy: 0.8769 - val_loss: 0.2130 - val_accuracy: 0.9444\n",
            "Epoch 2/100\n",
            "48000/48000 [==============================] - 5s 107us/step - loss: 0.1737 - accuracy: 0.9521 - val_loss: 0.1509 - val_accuracy: 0.9558\n",
            "Epoch 3/100\n",
            "48000/48000 [==============================] - 5s 109us/step - loss: 0.1340 - accuracy: 0.9609 - val_loss: 0.1269 - val_accuracy: 0.9621\n",
            "Epoch 4/100\n",
            "48000/48000 [==============================] - 5s 109us/step - loss: 0.1154 - accuracy: 0.9663 - val_loss: 0.1111 - val_accuracy: 0.9676\n",
            "Epoch 5/100\n",
            "48000/48000 [==============================] - 5s 112us/step - loss: 0.1039 - accuracy: 0.9696 - val_loss: 0.1055 - val_accuracy: 0.9678\n",
            "Epoch 6/100\n",
            "48000/48000 [==============================] - 6s 115us/step - loss: 0.0953 - accuracy: 0.9714 - val_loss: 0.0946 - val_accuracy: 0.9715\n",
            "Epoch 7/100\n",
            "48000/48000 [==============================] - 5s 107us/step - loss: 0.0888 - accuracy: 0.9734 - val_loss: 0.0903 - val_accuracy: 0.9739\n",
            "Epoch 8/100\n",
            "48000/48000 [==============================] - 5s 108us/step - loss: 0.0836 - accuracy: 0.9749 - val_loss: 0.0892 - val_accuracy: 0.9716\n",
            "Epoch 9/100\n",
            "48000/48000 [==============================] - 5s 108us/step - loss: 0.0797 - accuracy: 0.9757 - val_loss: 0.0836 - val_accuracy: 0.9745\n",
            "Epoch 10/100\n",
            "48000/48000 [==============================] - 5s 107us/step - loss: 0.0757 - accuracy: 0.9775 - val_loss: 0.0796 - val_accuracy: 0.9762\n",
            "Epoch 11/100\n",
            "48000/48000 [==============================] - 5s 107us/step - loss: 0.0733 - accuracy: 0.9774 - val_loss: 0.0799 - val_accuracy: 0.9752\n",
            "Epoch 12/100\n",
            "48000/48000 [==============================] - 5s 107us/step - loss: 0.0695 - accuracy: 0.9796 - val_loss: 0.0794 - val_accuracy: 0.9761\n",
            "Epoch 13/100\n",
            "48000/48000 [==============================] - 5s 107us/step - loss: 0.0678 - accuracy: 0.9792 - val_loss: 0.0763 - val_accuracy: 0.9771\n",
            "Epoch 14/100\n",
            "48000/48000 [==============================] - 5s 108us/step - loss: 0.0651 - accuracy: 0.9806 - val_loss: 0.0723 - val_accuracy: 0.9789\n",
            "Epoch 15/100\n",
            "48000/48000 [==============================] - 5s 109us/step - loss: 0.0631 - accuracy: 0.9811 - val_loss: 0.0790 - val_accuracy: 0.9753\n",
            "Epoch 16/100\n",
            "48000/48000 [==============================] - 5s 109us/step - loss: 0.0613 - accuracy: 0.9817 - val_loss: 0.0702 - val_accuracy: 0.9796\n",
            "Epoch 17/100\n",
            "48000/48000 [==============================] - 5s 108us/step - loss: 0.0591 - accuracy: 0.9821 - val_loss: 0.0691 - val_accuracy: 0.9792\n",
            "Epoch 18/100\n",
            "48000/48000 [==============================] - 5s 110us/step - loss: 0.0573 - accuracy: 0.9827 - val_loss: 0.0723 - val_accuracy: 0.9778\n",
            "Epoch 19/100\n",
            "48000/48000 [==============================] - 5s 110us/step - loss: 0.0558 - accuracy: 0.9826 - val_loss: 0.0670 - val_accuracy: 0.9796\n",
            "Epoch 20/100\n",
            "48000/48000 [==============================] - 5s 109us/step - loss: 0.0540 - accuracy: 0.9831 - val_loss: 0.0651 - val_accuracy: 0.9810\n",
            "Epoch 21/100\n",
            "48000/48000 [==============================] - 5s 110us/step - loss: 0.0529 - accuracy: 0.9839 - val_loss: 0.0675 - val_accuracy: 0.9797\n",
            "Epoch 22/100\n",
            "48000/48000 [==============================] - 5s 108us/step - loss: 0.0514 - accuracy: 0.9842 - val_loss: 0.0679 - val_accuracy: 0.9799\n",
            "Epoch 23/100\n",
            "48000/48000 [==============================] - 5s 108us/step - loss: 0.0502 - accuracy: 0.9844 - val_loss: 0.0660 - val_accuracy: 0.9804\n",
            "Epoch 24/100\n",
            "48000/48000 [==============================] - 5s 109us/step - loss: 0.0487 - accuracy: 0.9853 - val_loss: 0.0649 - val_accuracy: 0.9798\n",
            "Epoch 25/100\n",
            "48000/48000 [==============================] - 5s 109us/step - loss: 0.0479 - accuracy: 0.9853 - val_loss: 0.0643 - val_accuracy: 0.9812\n",
            "Epoch 26/100\n",
            "48000/48000 [==============================] - 5s 114us/step - loss: 0.0464 - accuracy: 0.9861 - val_loss: 0.0670 - val_accuracy: 0.9801\n",
            "Epoch 27/100\n",
            "48000/48000 [==============================] - 5s 108us/step - loss: 0.0456 - accuracy: 0.9861 - val_loss: 0.0663 - val_accuracy: 0.9813\n",
            "Epoch 28/100\n",
            "48000/48000 [==============================] - 5s 105us/step - loss: 0.0450 - accuracy: 0.9862 - val_loss: 0.0618 - val_accuracy: 0.9812\n",
            "Epoch 29/100\n",
            "48000/48000 [==============================] - 5s 108us/step - loss: 0.0435 - accuracy: 0.9868 - val_loss: 0.0636 - val_accuracy: 0.9816\n",
            "Epoch 30/100\n",
            "48000/48000 [==============================] - 5s 111us/step - loss: 0.0429 - accuracy: 0.9867 - val_loss: 0.0607 - val_accuracy: 0.9825\n",
            "Epoch 31/100\n",
            "48000/48000 [==============================] - 5s 109us/step - loss: 0.0420 - accuracy: 0.9873 - val_loss: 0.0635 - val_accuracy: 0.9806\n",
            "Epoch 32/100\n",
            "48000/48000 [==============================] - 5s 108us/step - loss: 0.0405 - accuracy: 0.9876 - val_loss: 0.0635 - val_accuracy: 0.9807\n",
            "Epoch 33/100\n",
            "48000/48000 [==============================] - 5s 108us/step - loss: 0.0394 - accuracy: 0.9881 - val_loss: 0.0602 - val_accuracy: 0.9814\n",
            "Epoch 34/100\n",
            "48000/48000 [==============================] - 5s 107us/step - loss: 0.0393 - accuracy: 0.9883 - val_loss: 0.0586 - val_accuracy: 0.9831\n",
            "Epoch 35/100\n",
            "48000/48000 [==============================] - 5s 106us/step - loss: 0.0378 - accuracy: 0.9885 - val_loss: 0.0612 - val_accuracy: 0.9829\n",
            "Epoch 36/100\n",
            "48000/48000 [==============================] - 5s 107us/step - loss: 0.0376 - accuracy: 0.9884 - val_loss: 0.0604 - val_accuracy: 0.9833\n",
            "Epoch 37/100\n",
            "48000/48000 [==============================] - 5s 108us/step - loss: 0.0364 - accuracy: 0.9888 - val_loss: 0.0606 - val_accuracy: 0.9818\n",
            "Epoch 38/100\n",
            "48000/48000 [==============================] - 5s 107us/step - loss: 0.0357 - accuracy: 0.9888 - val_loss: 0.0635 - val_accuracy: 0.9813\n",
            "Epoch 39/100\n",
            "48000/48000 [==============================] - 5s 108us/step - loss: 0.0355 - accuracy: 0.9891 - val_loss: 0.0637 - val_accuracy: 0.9812\n",
            "Epoch 40/100\n",
            "48000/48000 [==============================] - 5s 108us/step - loss: 0.0341 - accuracy: 0.9896 - val_loss: 0.0597 - val_accuracy: 0.9831\n",
            "Epoch 41/100\n",
            "48000/48000 [==============================] - 5s 108us/step - loss: 0.0337 - accuracy: 0.9896 - val_loss: 0.0630 - val_accuracy: 0.9825\n",
            "Epoch 42/100\n",
            "48000/48000 [==============================] - 5s 111us/step - loss: 0.0330 - accuracy: 0.9901 - val_loss: 0.0573 - val_accuracy: 0.9830\n",
            "Epoch 43/100\n",
            "48000/48000 [==============================] - 5s 110us/step - loss: 0.0326 - accuracy: 0.9900 - val_loss: 0.0629 - val_accuracy: 0.9818\n",
            "Epoch 44/100\n",
            "48000/48000 [==============================] - 5s 109us/step - loss: 0.0317 - accuracy: 0.9905 - val_loss: 0.0603 - val_accuracy: 0.9829\n",
            "Epoch 45/100\n",
            "48000/48000 [==============================] - 5s 109us/step - loss: 0.0308 - accuracy: 0.9910 - val_loss: 0.0592 - val_accuracy: 0.9834\n",
            "Epoch 46/100\n",
            "48000/48000 [==============================] - 5s 108us/step - loss: 0.0301 - accuracy: 0.9912 - val_loss: 0.0586 - val_accuracy: 0.9839\n",
            "Epoch 47/100\n",
            "48000/48000 [==============================] - 5s 109us/step - loss: 0.0291 - accuracy: 0.9912 - val_loss: 0.0569 - val_accuracy: 0.9836\n",
            "Epoch 48/100\n",
            "48000/48000 [==============================] - 5s 110us/step - loss: 0.0287 - accuracy: 0.9917 - val_loss: 0.0592 - val_accuracy: 0.9826\n",
            "Epoch 49/100\n",
            "48000/48000 [==============================] - 5s 110us/step - loss: 0.0278 - accuracy: 0.9918 - val_loss: 0.0570 - val_accuracy: 0.9841\n",
            "Epoch 50/100\n",
            "48000/48000 [==============================] - 6s 118us/step - loss: 0.0282 - accuracy: 0.9917 - val_loss: 0.0568 - val_accuracy: 0.9841\n",
            "Epoch 51/100\n",
            "48000/48000 [==============================] - 5s 113us/step - loss: 0.0274 - accuracy: 0.9917 - val_loss: 0.0587 - val_accuracy: 0.9833\n",
            "Epoch 52/100\n",
            "48000/48000 [==============================] - 5s 109us/step - loss: 0.0267 - accuracy: 0.9919 - val_loss: 0.0568 - val_accuracy: 0.9838\n",
            "Epoch 53/100\n",
            "48000/48000 [==============================] - 5s 112us/step - loss: 0.0264 - accuracy: 0.9925 - val_loss: 0.0585 - val_accuracy: 0.9836\n",
            "Epoch 54/100\n",
            "48000/48000 [==============================] - 5s 110us/step - loss: 0.0256 - accuracy: 0.9926 - val_loss: 0.0565 - val_accuracy: 0.9850\n",
            "Epoch 55/100\n",
            "48000/48000 [==============================] - 5s 110us/step - loss: 0.0261 - accuracy: 0.9924 - val_loss: 0.0594 - val_accuracy: 0.9827\n",
            "Epoch 56/100\n",
            "48000/48000 [==============================] - 5s 109us/step - loss: 0.0247 - accuracy: 0.9930 - val_loss: 0.0580 - val_accuracy: 0.9843\n",
            "Epoch 57/100\n",
            "48000/48000 [==============================] - 5s 107us/step - loss: 0.0245 - accuracy: 0.9926 - val_loss: 0.0586 - val_accuracy: 0.9831\n",
            "Epoch 58/100\n",
            "48000/48000 [==============================] - 5s 109us/step - loss: 0.0236 - accuracy: 0.9931 - val_loss: 0.0569 - val_accuracy: 0.9837\n",
            "Epoch 59/100\n",
            "48000/48000 [==============================] - 5s 110us/step - loss: 0.0232 - accuracy: 0.9934 - val_loss: 0.0562 - val_accuracy: 0.9851\n",
            "Epoch 60/100\n",
            "48000/48000 [==============================] - 5s 110us/step - loss: 0.0228 - accuracy: 0.9936 - val_loss: 0.0550 - val_accuracy: 0.9856\n",
            "Epoch 61/100\n",
            "48000/48000 [==============================] - 5s 109us/step - loss: 0.0225 - accuracy: 0.9935 - val_loss: 0.0590 - val_accuracy: 0.9837\n",
            "Epoch 62/100\n",
            "48000/48000 [==============================] - 5s 109us/step - loss: 0.0217 - accuracy: 0.9937 - val_loss: 0.0565 - val_accuracy: 0.9855\n",
            "Epoch 63/100\n",
            "48000/48000 [==============================] - 5s 109us/step - loss: 0.0213 - accuracy: 0.9940 - val_loss: 0.0557 - val_accuracy: 0.9850\n",
            "Epoch 64/100\n",
            "48000/48000 [==============================] - 6s 116us/step - loss: 0.0209 - accuracy: 0.9940 - val_loss: 0.0576 - val_accuracy: 0.9838\n",
            "Epoch 65/100\n",
            "48000/48000 [==============================] - 5s 113us/step - loss: 0.0208 - accuracy: 0.9941 - val_loss: 0.0600 - val_accuracy: 0.9843\n",
            "Epoch 66/100\n",
            "48000/48000 [==============================] - 5s 110us/step - loss: 0.0200 - accuracy: 0.9941 - val_loss: 0.0617 - val_accuracy: 0.9836\n",
            "Epoch 67/100\n",
            "48000/48000 [==============================] - 5s 109us/step - loss: 0.0201 - accuracy: 0.9944 - val_loss: 0.0591 - val_accuracy: 0.9848\n",
            "Epoch 68/100\n",
            "48000/48000 [==============================] - 5s 107us/step - loss: 0.0192 - accuracy: 0.9945 - val_loss: 0.0553 - val_accuracy: 0.9848\n",
            "Epoch 69/100\n",
            "48000/48000 [==============================] - 5s 109us/step - loss: 0.0191 - accuracy: 0.9946 - val_loss: 0.0579 - val_accuracy: 0.9844\n",
            "Epoch 70/100\n",
            "48000/48000 [==============================] - 5s 109us/step - loss: 0.0187 - accuracy: 0.9946 - val_loss: 0.0571 - val_accuracy: 0.9846\n",
            "Epoch 71/100\n",
            "48000/48000 [==============================] - 5s 109us/step - loss: 0.0179 - accuracy: 0.9949 - val_loss: 0.0593 - val_accuracy: 0.9837\n",
            "Epoch 72/100\n",
            "48000/48000 [==============================] - 5s 110us/step - loss: 0.0180 - accuracy: 0.9953 - val_loss: 0.0621 - val_accuracy: 0.9831\n",
            "Epoch 73/100\n",
            "48000/48000 [==============================] - 5s 110us/step - loss: 0.0177 - accuracy: 0.9953 - val_loss: 0.0573 - val_accuracy: 0.9852\n",
            "Epoch 74/100\n",
            "48000/48000 [==============================] - 5s 108us/step - loss: 0.0175 - accuracy: 0.9949 - val_loss: 0.0572 - val_accuracy: 0.9854\n",
            "Epoch 75/100\n",
            "48000/48000 [==============================] - 5s 110us/step - loss: 0.0165 - accuracy: 0.9951 - val_loss: 0.0621 - val_accuracy: 0.9827\n",
            "Epoch 76/100\n",
            "48000/48000 [==============================] - 5s 109us/step - loss: 0.0162 - accuracy: 0.9954 - val_loss: 0.0593 - val_accuracy: 0.9852\n",
            "Epoch 77/100\n",
            "48000/48000 [==============================] - 5s 109us/step - loss: 0.0161 - accuracy: 0.9956 - val_loss: 0.0589 - val_accuracy: 0.9846\n",
            "Epoch 78/100\n",
            "48000/48000 [==============================] - 5s 110us/step - loss: 0.0157 - accuracy: 0.9959 - val_loss: 0.0578 - val_accuracy: 0.9843\n",
            "Epoch 79/100\n",
            "48000/48000 [==============================] - 5s 109us/step - loss: 0.0154 - accuracy: 0.9957 - val_loss: 0.0618 - val_accuracy: 0.9838\n",
            "Epoch 80/100\n",
            "48000/48000 [==============================] - 5s 108us/step - loss: 0.0155 - accuracy: 0.9956 - val_loss: 0.0583 - val_accuracy: 0.9854\n",
            "Epoch 81/100\n",
            "48000/48000 [==============================] - 5s 110us/step - loss: 0.0145 - accuracy: 0.9961 - val_loss: 0.0604 - val_accuracy: 0.9858\n",
            "Epoch 82/100\n",
            "48000/48000 [==============================] - 5s 110us/step - loss: 0.0144 - accuracy: 0.9958 - val_loss: 0.0577 - val_accuracy: 0.9859\n",
            "Epoch 83/100\n",
            "48000/48000 [==============================] - 5s 109us/step - loss: 0.0141 - accuracy: 0.9964 - val_loss: 0.0585 - val_accuracy: 0.9855\n",
            "Epoch 84/100\n",
            "48000/48000 [==============================] - 5s 109us/step - loss: 0.0139 - accuracy: 0.9962 - val_loss: 0.0603 - val_accuracy: 0.9850\n",
            "Epoch 85/100\n",
            "48000/48000 [==============================] - 5s 110us/step - loss: 0.0136 - accuracy: 0.9963 - val_loss: 0.0630 - val_accuracy: 0.9835\n",
            "Epoch 86/100\n",
            "48000/48000 [==============================] - 5s 109us/step - loss: 0.0136 - accuracy: 0.9965 - val_loss: 0.0574 - val_accuracy: 0.9858\n",
            "Epoch 87/100\n",
            "48000/48000 [==============================] - 5s 109us/step - loss: 0.0136 - accuracy: 0.9965 - val_loss: 0.0595 - val_accuracy: 0.9846\n",
            "Epoch 88/100\n",
            "48000/48000 [==============================] - 5s 112us/step - loss: 0.0125 - accuracy: 0.9968 - val_loss: 0.0622 - val_accuracy: 0.9849\n",
            "Epoch 89/100\n",
            "48000/48000 [==============================] - 5s 110us/step - loss: 0.0123 - accuracy: 0.9970 - val_loss: 0.0648 - val_accuracy: 0.9834\n",
            "Epoch 90/100\n",
            "48000/48000 [==============================] - 5s 110us/step - loss: 0.0124 - accuracy: 0.9967 - val_loss: 0.0589 - val_accuracy: 0.9852\n",
            "Epoch 91/100\n",
            "48000/48000 [==============================] - 5s 110us/step - loss: 0.0123 - accuracy: 0.9968 - val_loss: 0.0593 - val_accuracy: 0.9855\n",
            "Epoch 92/100\n",
            "48000/48000 [==============================] - 5s 109us/step - loss: 0.0116 - accuracy: 0.9969 - val_loss: 0.0671 - val_accuracy: 0.9834\n",
            "Epoch 93/100\n",
            "48000/48000 [==============================] - 5s 109us/step - loss: 0.0115 - accuracy: 0.9970 - val_loss: 0.0657 - val_accuracy: 0.9830\n",
            "Epoch 94/100\n",
            "48000/48000 [==============================] - 5s 109us/step - loss: 0.0115 - accuracy: 0.9972 - val_loss: 0.0626 - val_accuracy: 0.9848\n",
            "Epoch 95/100\n",
            "48000/48000 [==============================] - 5s 110us/step - loss: 0.0109 - accuracy: 0.9971 - val_loss: 0.0602 - val_accuracy: 0.9852\n",
            "Epoch 96/100\n",
            "48000/48000 [==============================] - 5s 110us/step - loss: 0.0114 - accuracy: 0.9972 - val_loss: 0.0617 - val_accuracy: 0.9841\n",
            "Epoch 97/100\n",
            "48000/48000 [==============================] - 5s 110us/step - loss: 0.0103 - accuracy: 0.9975 - val_loss: 0.0635 - val_accuracy: 0.9847\n",
            "Epoch 98/100\n",
            "48000/48000 [==============================] - 5s 109us/step - loss: 0.0103 - accuracy: 0.9975 - val_loss: 0.0600 - val_accuracy: 0.9859\n",
            "Epoch 99/100\n",
            "48000/48000 [==============================] - 5s 109us/step - loss: 0.0100 - accuracy: 0.9975 - val_loss: 0.0607 - val_accuracy: 0.9848\n",
            "Epoch 100/100\n",
            "48000/48000 [==============================] - 5s 109us/step - loss: 0.0103 - accuracy: 0.9973 - val_loss: 0.0612 - val_accuracy: 0.9860\n"
          ],
          "name": "stdout"
        }
      ]
    },
    {
      "cell_type": "code",
      "metadata": {
        "id": "_7o1zcDnFvD5",
        "colab_type": "code",
        "colab": {}
      },
      "source": [
        "full_model.save_weights('autoencoder_classification.h5')"
      ],
      "execution_count": 0,
      "outputs": []
    },
    {
      "cell_type": "code",
      "metadata": {
        "id": "4FQ_igxHFgDI",
        "colab_type": "code",
        "colab": {}
      },
      "source": [
        "for layer in full_model.layers[0:7]:\n",
        "    layer.trainable = True"
      ],
      "execution_count": 0,
      "outputs": []
    },
    {
      "cell_type": "code",
      "metadata": {
        "id": "AVQxM2EFKeKd",
        "colab_type": "code",
        "colab": {}
      },
      "source": [
        "full_model.compile(loss=keras.losses.categorical_crossentropy, optimizer=keras.optimizers.Adam(),metrics=['accuracy'])"
      ],
      "execution_count": 0,
      "outputs": []
    },
    {
      "cell_type": "code",
      "metadata": {
        "id": "lU7Z1mCBKe-3",
        "colab_type": "code",
        "colab": {
          "base_uri": "https://localhost:8080/",
          "height": 1000
        },
        "outputId": "12548f07-c2de-4d93-ad58-1187434f811e"
      },
      "source": [
        "classify_train = full_model.fit(train_X, train_label, batch_size=64,epochs=100,verbose=1,validation_data=(valid_X, valid_label))"
      ],
      "execution_count": 62,
      "outputs": [
        {
          "output_type": "stream",
          "text": [
            "Train on 48000 samples, validate on 12000 samples\n",
            "Epoch 1/100\n",
            "48000/48000 [==============================] - 9s 179us/step - loss: 0.0407 - accuracy: 0.9880 - val_loss: 0.0784 - val_accuracy: 0.9828\n",
            "Epoch 2/100\n",
            "48000/48000 [==============================] - 8s 169us/step - loss: 0.0318 - accuracy: 0.9901 - val_loss: 0.0743 - val_accuracy: 0.9842\n",
            "Epoch 3/100\n",
            "48000/48000 [==============================] - 8s 168us/step - loss: 0.0261 - accuracy: 0.9917 - val_loss: 0.0829 - val_accuracy: 0.9829\n",
            "Epoch 4/100\n",
            "48000/48000 [==============================] - 8s 168us/step - loss: 0.0221 - accuracy: 0.9930 - val_loss: 0.0930 - val_accuracy: 0.9799\n",
            "Epoch 5/100\n",
            "48000/48000 [==============================] - 8s 167us/step - loss: 0.0232 - accuracy: 0.9931 - val_loss: 0.0791 - val_accuracy: 0.9841\n",
            "Epoch 6/100\n",
            "48000/48000 [==============================] - 8s 167us/step - loss: 0.0228 - accuracy: 0.9930 - val_loss: 0.1007 - val_accuracy: 0.9808\n",
            "Epoch 7/100\n",
            "48000/48000 [==============================] - 8s 176us/step - loss: 0.0202 - accuracy: 0.9937 - val_loss: 0.0706 - val_accuracy: 0.9865\n",
            "Epoch 8/100\n",
            "48000/48000 [==============================] - 8s 167us/step - loss: 0.0176 - accuracy: 0.9946 - val_loss: 0.0887 - val_accuracy: 0.9822\n",
            "Epoch 9/100\n",
            "48000/48000 [==============================] - 8s 167us/step - loss: 0.0184 - accuracy: 0.9948 - val_loss: 0.0899 - val_accuracy: 0.9838\n",
            "Epoch 10/100\n",
            "48000/48000 [==============================] - 8s 167us/step - loss: 0.0176 - accuracy: 0.9950 - val_loss: 0.0864 - val_accuracy: 0.9850\n",
            "Epoch 11/100\n",
            "48000/48000 [==============================] - 8s 166us/step - loss: 0.0185 - accuracy: 0.9943 - val_loss: 0.0746 - val_accuracy: 0.9863\n",
            "Epoch 12/100\n",
            "48000/48000 [==============================] - 8s 166us/step - loss: 0.0153 - accuracy: 0.9954 - val_loss: 0.0828 - val_accuracy: 0.9859\n",
            "Epoch 13/100\n",
            "48000/48000 [==============================] - 8s 166us/step - loss: 0.0129 - accuracy: 0.9964 - val_loss: 0.0740 - val_accuracy: 0.9882\n",
            "Epoch 14/100\n",
            "48000/48000 [==============================] - 8s 166us/step - loss: 0.0108 - accuracy: 0.9966 - val_loss: 0.1087 - val_accuracy: 0.9835\n",
            "Epoch 15/100\n",
            "48000/48000 [==============================] - 8s 169us/step - loss: 0.0161 - accuracy: 0.9956 - val_loss: 0.0749 - val_accuracy: 0.9883\n",
            "Epoch 16/100\n",
            "48000/48000 [==============================] - 8s 167us/step - loss: 0.0099 - accuracy: 0.9968 - val_loss: 0.0925 - val_accuracy: 0.9868\n",
            "Epoch 17/100\n",
            "48000/48000 [==============================] - 8s 167us/step - loss: 0.0112 - accuracy: 0.9966 - val_loss: 0.1431 - val_accuracy: 0.9819\n",
            "Epoch 18/100\n",
            "48000/48000 [==============================] - 8s 166us/step - loss: 0.0138 - accuracy: 0.9958 - val_loss: 0.1054 - val_accuracy: 0.9852\n",
            "Epoch 19/100\n",
            "48000/48000 [==============================] - 8s 167us/step - loss: 0.0113 - accuracy: 0.9966 - val_loss: 0.1050 - val_accuracy: 0.9847\n",
            "Epoch 20/100\n",
            "48000/48000 [==============================] - 8s 167us/step - loss: 0.0114 - accuracy: 0.9967 - val_loss: 0.1123 - val_accuracy: 0.9824\n",
            "Epoch 21/100\n",
            "48000/48000 [==============================] - 8s 166us/step - loss: 0.0093 - accuracy: 0.9974 - val_loss: 0.1037 - val_accuracy: 0.9873\n",
            "Epoch 22/100\n",
            "48000/48000 [==============================] - 8s 166us/step - loss: 0.0078 - accuracy: 0.9976 - val_loss: 0.0969 - val_accuracy: 0.9874\n",
            "Epoch 23/100\n",
            "48000/48000 [==============================] - 8s 166us/step - loss: 0.0102 - accuracy: 0.9971 - val_loss: 0.0980 - val_accuracy: 0.9876\n",
            "Epoch 24/100\n",
            "48000/48000 [==============================] - 8s 164us/step - loss: 0.0107 - accuracy: 0.9969 - val_loss: 0.1154 - val_accuracy: 0.9876\n",
            "Epoch 25/100\n",
            "48000/48000 [==============================] - 8s 165us/step - loss: 0.0132 - accuracy: 0.9969 - val_loss: 0.1200 - val_accuracy: 0.9847\n",
            "Epoch 26/100\n",
            "48000/48000 [==============================] - 8s 164us/step - loss: 0.0092 - accuracy: 0.9976 - val_loss: 0.1042 - val_accuracy: 0.9877\n",
            "Epoch 27/100\n",
            "48000/48000 [==============================] - 8s 165us/step - loss: 0.0081 - accuracy: 0.9980 - val_loss: 0.1509 - val_accuracy: 0.9847\n",
            "Epoch 28/100\n",
            "48000/48000 [==============================] - 8s 165us/step - loss: 0.0136 - accuracy: 0.9968 - val_loss: 0.2103 - val_accuracy: 0.9798\n",
            "Epoch 29/100\n",
            "48000/48000 [==============================] - 8s 165us/step - loss: 0.0101 - accuracy: 0.9974 - val_loss: 0.1099 - val_accuracy: 0.9872\n",
            "Epoch 30/100\n",
            "48000/48000 [==============================] - 8s 167us/step - loss: 0.0059 - accuracy: 0.9984 - val_loss: 0.1205 - val_accuracy: 0.9883\n",
            "Epoch 31/100\n",
            "48000/48000 [==============================] - 8s 165us/step - loss: 0.0051 - accuracy: 0.9985 - val_loss: 0.1269 - val_accuracy: 0.9869\n",
            "Epoch 32/100\n",
            "48000/48000 [==============================] - 8s 165us/step - loss: 0.0115 - accuracy: 0.9975 - val_loss: 0.1508 - val_accuracy: 0.9869\n",
            "Epoch 33/100\n",
            "48000/48000 [==============================] - 8s 165us/step - loss: 0.0117 - accuracy: 0.9974 - val_loss: 0.1284 - val_accuracy: 0.9877\n",
            "Epoch 34/100\n",
            "48000/48000 [==============================] - 8s 165us/step - loss: 0.0113 - accuracy: 0.9974 - val_loss: 0.1345 - val_accuracy: 0.9857\n",
            "Epoch 35/100\n",
            "48000/48000 [==============================] - 8s 165us/step - loss: 0.0095 - accuracy: 0.9980 - val_loss: 0.1208 - val_accuracy: 0.9868\n",
            "Epoch 36/100\n",
            "48000/48000 [==============================] - 8s 165us/step - loss: 0.0092 - accuracy: 0.9977 - val_loss: 0.1350 - val_accuracy: 0.9865\n",
            "Epoch 37/100\n",
            "48000/48000 [==============================] - 8s 171us/step - loss: 0.0064 - accuracy: 0.9983 - val_loss: 0.1729 - val_accuracy: 0.9862\n",
            "Epoch 38/100\n",
            "48000/48000 [==============================] - 8s 171us/step - loss: 0.0110 - accuracy: 0.9977 - val_loss: 0.1316 - val_accuracy: 0.9874\n",
            "Epoch 39/100\n",
            "48000/48000 [==============================] - 8s 164us/step - loss: 0.0061 - accuracy: 0.9986 - val_loss: 0.1451 - val_accuracy: 0.9874\n",
            "Epoch 40/100\n",
            "48000/48000 [==============================] - 8s 165us/step - loss: 0.0072 - accuracy: 0.9984 - val_loss: 0.1361 - val_accuracy: 0.9885\n",
            "Epoch 41/100\n",
            "48000/48000 [==============================] - 8s 165us/step - loss: 0.0141 - accuracy: 0.9970 - val_loss: 0.1478 - val_accuracy: 0.9868\n",
            "Epoch 42/100\n",
            "48000/48000 [==============================] - 8s 164us/step - loss: 0.0071 - accuracy: 0.9984 - val_loss: 0.1230 - val_accuracy: 0.9888\n",
            "Epoch 43/100\n",
            "48000/48000 [==============================] - 8s 164us/step - loss: 0.0061 - accuracy: 0.9986 - val_loss: 0.1454 - val_accuracy: 0.9885\n",
            "Epoch 44/100\n",
            "48000/48000 [==============================] - 8s 164us/step - loss: 0.0065 - accuracy: 0.9984 - val_loss: 0.1377 - val_accuracy: 0.9874\n",
            "Epoch 45/100\n",
            "48000/48000 [==============================] - 8s 171us/step - loss: 0.0061 - accuracy: 0.9986 - val_loss: 0.1620 - val_accuracy: 0.9889\n",
            "Epoch 46/100\n",
            "48000/48000 [==============================] - 8s 165us/step - loss: 0.0096 - accuracy: 0.9981 - val_loss: 0.1652 - val_accuracy: 0.9877\n",
            "Epoch 47/100\n",
            "48000/48000 [==============================] - 8s 164us/step - loss: 0.0111 - accuracy: 0.9980 - val_loss: 0.1453 - val_accuracy: 0.9882\n",
            "Epoch 48/100\n",
            "48000/48000 [==============================] - 8s 164us/step - loss: 0.0093 - accuracy: 0.9980 - val_loss: 0.1463 - val_accuracy: 0.9893\n",
            "Epoch 49/100\n",
            "48000/48000 [==============================] - 8s 165us/step - loss: 0.0082 - accuracy: 0.9984 - val_loss: 0.1815 - val_accuracy: 0.9882\n",
            "Epoch 50/100\n",
            "48000/48000 [==============================] - 8s 164us/step - loss: 0.0100 - accuracy: 0.9980 - val_loss: 0.2038 - val_accuracy: 0.9867\n",
            "Epoch 51/100\n",
            "48000/48000 [==============================] - 8s 163us/step - loss: 0.0072 - accuracy: 0.9985 - val_loss: 0.1963 - val_accuracy: 0.9855\n",
            "Epoch 52/100\n",
            "48000/48000 [==============================] - 8s 164us/step - loss: 0.0047 - accuracy: 0.9990 - val_loss: 0.1921 - val_accuracy: 0.9877\n",
            "Epoch 53/100\n",
            "48000/48000 [==============================] - 8s 164us/step - loss: 0.0070 - accuracy: 0.9985 - val_loss: 0.1849 - val_accuracy: 0.9878\n",
            "Epoch 54/100\n",
            "48000/48000 [==============================] - 8s 164us/step - loss: 0.0102 - accuracy: 0.9982 - val_loss: 0.2088 - val_accuracy: 0.9843\n",
            "Epoch 55/100\n",
            "48000/48000 [==============================] - 8s 164us/step - loss: 0.0112 - accuracy: 0.9978 - val_loss: 0.1468 - val_accuracy: 0.9890\n",
            "Epoch 56/100\n",
            "48000/48000 [==============================] - 8s 164us/step - loss: 0.0037 - accuracy: 0.9992 - val_loss: 0.1605 - val_accuracy: 0.9884\n",
            "Epoch 57/100\n",
            "48000/48000 [==============================] - 8s 165us/step - loss: 0.0069 - accuracy: 0.9985 - val_loss: 0.1718 - val_accuracy: 0.9871\n",
            "Epoch 58/100\n",
            "48000/48000 [==============================] - 8s 165us/step - loss: 0.0092 - accuracy: 0.9984 - val_loss: 0.1763 - val_accuracy: 0.9865\n",
            "Epoch 59/100\n",
            "48000/48000 [==============================] - 8s 164us/step - loss: 0.0083 - accuracy: 0.9984 - val_loss: 0.1830 - val_accuracy: 0.9892\n",
            "Epoch 60/100\n",
            "48000/48000 [==============================] - 8s 164us/step - loss: 0.0093 - accuracy: 0.9985 - val_loss: 0.1942 - val_accuracy: 0.9863\n",
            "Epoch 61/100\n",
            "48000/48000 [==============================] - 8s 168us/step - loss: 0.0065 - accuracy: 0.9986 - val_loss: 0.1744 - val_accuracy: 0.9892\n",
            "Epoch 62/100\n",
            "48000/48000 [==============================] - 8s 164us/step - loss: 0.0065 - accuracy: 0.9988 - val_loss: 0.2291 - val_accuracy: 0.9871\n",
            "Epoch 63/100\n",
            "48000/48000 [==============================] - 8s 165us/step - loss: 0.0092 - accuracy: 0.9984 - val_loss: 0.1608 - val_accuracy: 0.9877\n",
            "Epoch 64/100\n",
            "48000/48000 [==============================] - 8s 165us/step - loss: 0.0040 - accuracy: 0.9993 - val_loss: 0.2076 - val_accuracy: 0.9875\n",
            "Epoch 65/100\n",
            "48000/48000 [==============================] - 8s 164us/step - loss: 0.0066 - accuracy: 0.9986 - val_loss: 0.1780 - val_accuracy: 0.9872\n",
            "Epoch 66/100\n",
            "48000/48000 [==============================] - 8s 164us/step - loss: 0.0042 - accuracy: 0.9990 - val_loss: 0.1963 - val_accuracy: 0.9885\n",
            "Epoch 67/100\n",
            "48000/48000 [==============================] - 8s 164us/step - loss: 0.0088 - accuracy: 0.9985 - val_loss: 0.2036 - val_accuracy: 0.9869\n",
            "Epoch 68/100\n",
            "48000/48000 [==============================] - 8s 165us/step - loss: 0.0095 - accuracy: 0.9984 - val_loss: 0.2289 - val_accuracy: 0.9875\n",
            "Epoch 69/100\n",
            "48000/48000 [==============================] - 8s 164us/step - loss: 0.0048 - accuracy: 0.9991 - val_loss: 0.2301 - val_accuracy: 0.9889\n",
            "Epoch 70/100\n",
            "48000/48000 [==============================] - 8s 165us/step - loss: 0.0063 - accuracy: 0.9990 - val_loss: 0.2226 - val_accuracy: 0.9852\n",
            "Epoch 71/100\n",
            "48000/48000 [==============================] - 8s 165us/step - loss: 0.0089 - accuracy: 0.9986 - val_loss: 0.2208 - val_accuracy: 0.9871\n",
            "Epoch 72/100\n",
            "48000/48000 [==============================] - 8s 164us/step - loss: 0.0049 - accuracy: 0.9990 - val_loss: 0.2178 - val_accuracy: 0.9867\n",
            "Epoch 73/100\n",
            "48000/48000 [==============================] - 8s 165us/step - loss: 0.0075 - accuracy: 0.9987 - val_loss: 0.2785 - val_accuracy: 0.9866\n",
            "Epoch 74/100\n",
            "48000/48000 [==============================] - 8s 165us/step - loss: 0.0103 - accuracy: 0.9986 - val_loss: 0.2322 - val_accuracy: 0.9875\n",
            "Epoch 75/100\n",
            "48000/48000 [==============================] - 8s 165us/step - loss: 0.0059 - accuracy: 0.9991 - val_loss: 0.2257 - val_accuracy: 0.9890\n",
            "Epoch 76/100\n",
            "48000/48000 [==============================] - 8s 171us/step - loss: 0.0108 - accuracy: 0.9985 - val_loss: 0.2210 - val_accuracy: 0.9896\n",
            "Epoch 77/100\n",
            "48000/48000 [==============================] - 8s 173us/step - loss: 0.0072 - accuracy: 0.9990 - val_loss: 0.2721 - val_accuracy: 0.9887\n",
            "Epoch 78/100\n",
            "48000/48000 [==============================] - 8s 165us/step - loss: 0.0078 - accuracy: 0.9987 - val_loss: 0.2989 - val_accuracy: 0.9864\n",
            "Epoch 79/100\n",
            "48000/48000 [==============================] - 8s 165us/step - loss: 0.0063 - accuracy: 0.9991 - val_loss: 0.2413 - val_accuracy: 0.9892\n",
            "Epoch 80/100\n",
            "48000/48000 [==============================] - 8s 165us/step - loss: 0.0075 - accuracy: 0.9987 - val_loss: 0.2519 - val_accuracy: 0.9889\n",
            "Epoch 81/100\n",
            "48000/48000 [==============================] - 8s 165us/step - loss: 0.0085 - accuracy: 0.9989 - val_loss: 0.3016 - val_accuracy: 0.9883\n",
            "Epoch 82/100\n",
            "48000/48000 [==============================] - 8s 165us/step - loss: 0.0076 - accuracy: 0.9991 - val_loss: 0.2789 - val_accuracy: 0.9880\n",
            "Epoch 83/100\n",
            "48000/48000 [==============================] - 8s 166us/step - loss: 0.0084 - accuracy: 0.9987 - val_loss: 0.2737 - val_accuracy: 0.9883\n",
            "Epoch 84/100\n",
            "48000/48000 [==============================] - 8s 173us/step - loss: 0.0068 - accuracy: 0.9990 - val_loss: 0.3174 - val_accuracy: 0.9865\n",
            "Epoch 85/100\n",
            "48000/48000 [==============================] - 8s 165us/step - loss: 0.0107 - accuracy: 0.9985 - val_loss: 0.2777 - val_accuracy: 0.9871\n",
            "Epoch 86/100\n",
            "48000/48000 [==============================] - 8s 165us/step - loss: 0.0101 - accuracy: 0.9986 - val_loss: 0.3283 - val_accuracy: 0.9867\n",
            "Epoch 87/100\n",
            "48000/48000 [==============================] - 8s 166us/step - loss: 0.0056 - accuracy: 0.9993 - val_loss: 0.2608 - val_accuracy: 0.9877\n",
            "Epoch 88/100\n",
            "48000/48000 [==============================] - 8s 167us/step - loss: 0.0076 - accuracy: 0.9987 - val_loss: 0.3137 - val_accuracy: 0.9874\n",
            "Epoch 89/100\n",
            "48000/48000 [==============================] - 8s 167us/step - loss: 0.0080 - accuracy: 0.9990 - val_loss: 0.2745 - val_accuracy: 0.9889\n",
            "Epoch 90/100\n",
            "48000/48000 [==============================] - 8s 166us/step - loss: 0.0077 - accuracy: 0.9989 - val_loss: 0.3000 - val_accuracy: 0.9868\n",
            "Epoch 91/100\n",
            "48000/48000 [==============================] - 8s 167us/step - loss: 0.0099 - accuracy: 0.9991 - val_loss: 0.2676 - val_accuracy: 0.9899\n",
            "Epoch 92/100\n",
            "48000/48000 [==============================] - 8s 170us/step - loss: 0.0096 - accuracy: 0.9991 - val_loss: 0.2666 - val_accuracy: 0.9894\n",
            "Epoch 93/100\n",
            "48000/48000 [==============================] - 8s 167us/step - loss: 0.0034 - accuracy: 0.9995 - val_loss: 0.2521 - val_accuracy: 0.9892\n",
            "Epoch 94/100\n",
            "48000/48000 [==============================] - 8s 167us/step - loss: 0.0113 - accuracy: 0.9987 - val_loss: 0.3243 - val_accuracy: 0.9863\n",
            "Epoch 95/100\n",
            "48000/48000 [==============================] - 8s 166us/step - loss: 0.0072 - accuracy: 0.9991 - val_loss: 0.2820 - val_accuracy: 0.9883\n",
            "Epoch 96/100\n",
            "48000/48000 [==============================] - 8s 167us/step - loss: 0.0075 - accuracy: 0.9992 - val_loss: 0.2930 - val_accuracy: 0.9887\n",
            "Epoch 97/100\n",
            "48000/48000 [==============================] - 8s 166us/step - loss: 0.0043 - accuracy: 0.9993 - val_loss: 0.3015 - val_accuracy: 0.9886\n",
            "Epoch 98/100\n",
            "48000/48000 [==============================] - 8s 165us/step - loss: 0.0100 - accuracy: 0.9989 - val_loss: 0.3273 - val_accuracy: 0.9878\n",
            "Epoch 99/100\n",
            "48000/48000 [==============================] - 8s 169us/step - loss: 0.0107 - accuracy: 0.9986 - val_loss: 0.3692 - val_accuracy: 0.9873\n",
            "Epoch 100/100\n",
            "48000/48000 [==============================] - 8s 166us/step - loss: 0.0086 - accuracy: 0.9991 - val_loss: 0.3992 - val_accuracy: 0.9879\n"
          ],
          "name": "stdout"
        }
      ]
    },
    {
      "cell_type": "code",
      "metadata": {
        "id": "jHV-LTi8Kspt",
        "colab_type": "code",
        "colab": {}
      },
      "source": [
        "full_model.save_weights('classification_complete.h5')"
      ],
      "execution_count": 0,
      "outputs": []
    },
    {
      "cell_type": "code",
      "metadata": {
        "id": "5ZBpsG1NKs7u",
        "colab_type": "code",
        "colab": {
          "base_uri": "https://localhost:8080/",
          "height": 545
        },
        "outputId": "61381440-09c9-4165-a75b-8a103c9bf4d6"
      },
      "source": [
        "accuracy = classify_train.history['accuracy']\n",
        "val_accuracy = classify_train.history['val_accuracy']\n",
        "loss = classify_train.history['loss']\n",
        "val_loss = classify_train.history['val_loss']\n",
        "epochs = range(len(accuracy))\n",
        "plt.plot(epochs, accuracy, 'bo', label='Training accuracy')\n",
        "plt.plot(epochs, val_accuracy, 'b', label='Validation accuracy')\n",
        "plt.title('Training and validation accuracy')\n",
        "plt.legend()\n",
        "plt.figure()\n",
        "plt.plot(epochs, loss, 'bo', label='Training loss')\n",
        "plt.plot(epochs, val_loss, 'b', label='Validation loss')\n",
        "plt.title('Training and validation loss')\n",
        "plt.legend()\n",
        "plt.show()"
      ],
      "execution_count": 67,
      "outputs": [
        {
          "output_type": "display_data",
          "data": {
            "image/png": "[encoded data removed]",
            "text/plain": [
              "<Figure size 432x288 with 1 Axes>"
            ]
          },
          "metadata": {
            "tags": [],
            "needs_background": "light"
          }
        },
        {
          "output_type": "display_data",
          "data": {
            "image/png": "[encoded data removed]",
            "text/plain": [
              "<Figure size 432x288 with 1 Axes>"
            ]
          },
          "metadata": {
            "tags": [],
            "needs_background": "light"
          }
        }
      ]
    },
    {
      "cell_type": "code",
      "metadata": {
        "id": "clg4UVGCKzfK",
        "colab_type": "code",
        "colab": {
          "base_uri": "https://localhost:8080/",
          "height": 136
        },
        "outputId": "7b26757d-11b3-430f-a9ed-c62679b872b1"
      },
      "source": [
        "predicted_classes = full_model.predict(test_X)\n",
        "print(predicted_classes)"
      ],
      "execution_count": 75,
      "outputs": [
        {
          "output_type": "stream",
          "text": [
            "[[0. 0. 0. ... 1. 0. 0.]\n",
            " [0. 0. 1. ... 0. 0. 0.]\n",
            " [0. 1. 0. ... 0. 0. 0.]\n",
            " ...\n",
            " [0. 0. 0. ... 0. 0. 0.]\n",
            " [0. 0. 0. ... 0. 0. 0.]\n",
            " [0. 0. 0. ... 0. 0. 0.]]\n"
          ],
          "name": "stdout"
        }
      ]
    },
    {
      "cell_type": "code",
      "metadata": {
        "id": "VurLumzALKV7",
        "colab_type": "code",
        "colab": {
          "base_uri": "https://localhost:8080/",
          "height": 34
        },
        "outputId": "ca11f2ca-13df-4a22-95ae-484b1b5fa0ff"
      },
      "source": [
        "predicted_classes = np.argmax(np.round(predicted_classes),axis=0)\n",
        "print(predicted_classes)"
      ],
      "execution_count": 81,
      "outputs": [
        {
          "output_type": "stream",
          "text": [
            "0\n"
          ],
          "name": "stdout"
        }
      ]
    },
    {
      "cell_type": "code",
      "metadata": {
        "id": "i_0FaBXgLQ5O",
        "colab_type": "code",
        "colab": {
          "base_uri": "https://localhost:8080/",
          "height": 314
        },
        "outputId": "64a32d18-ff20-402f-aa01-58354c6de505"
      },
      "source": [
        "#number of correct prediction and correct predicted image\n",
        "correct = np.where(predicted_classes==test_y)[0]\n",
        "print(len(correct))\n",
        "for i, correct in enumerate(correct[:9]):\n",
        "    plt.subplot(3,3,i+1)\n",
        "    plt.imshow(test_X[correct].reshape(28,28), cmap='gray', interpolation='none')\n",
        "    plt.tight_layout()"
      ],
      "execution_count": 88,
      "outputs": [
        {
          "output_type": "stream",
          "text": [
            "980\n"
          ],
          "name": "stdout"
        },
        {
          "output_type": "display_data",
          "data": {
            "image/png": "[encoded data removed]",
            "text/plain": [
              "<Figure size 432x288 with 8 Axes>"
            ]
          },
          "metadata": {
            "tags": [],
            "needs_background": "light"
          }
        }
      ]
    }
  ]
}